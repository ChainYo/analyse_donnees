{
 "metadata": {
  "language_info": {
   "codemirror_mode": {
    "name": "ipython",
    "version": 3
   },
   "file_extension": ".py",
   "mimetype": "text/x-python",
   "name": "python",
   "nbconvert_exporter": "python",
   "pygments_lexer": "ipython3",
   "version": "3.8.5-final"
  },
  "orig_nbformat": 2,
  "kernelspec": {
   "name": "python3",
   "display_name": "Python 3",
   "language": "python"
  }
 },
 "nbformat": 4,
 "nbformat_minor": 2,
 "cells": [
  {
   "source": [
    "# <center>Analyse et visualisation des données</center>"
   ],
   "cell_type": "markdown",
   "metadata": {}
  },
  {
   "cell_type": "code",
   "execution_count": 2,
   "metadata": {},
   "outputs": [],
   "source": [
    "import pandas as pd \n",
    "import numpy as np"
   ]
  },
  {
   "cell_type": "code",
   "execution_count": 3,
   "metadata": {},
   "outputs": [],
   "source": [
    "df = pd.read_csv('./export.csv')"
   ]
  },
  {
   "cell_type": "code",
   "execution_count": 4,
   "metadata": {},
   "outputs": [
    {
     "output_type": "execute_result",
     "data": {
      "text/plain": [
       "   Unnamed: 0        lat        lng    zip                    title  \\\n",
       "0           0  40.297876 -75.581294  19525   EMS: BACK PAINS/INJURY   \n",
       "1           1  40.258061 -75.264680  19446  EMS: DIABETIC EMERGENCY   \n",
       "2           2  40.121182 -75.351975  19401      Fire: GAS-ODOR/LEAK   \n",
       "3           3  40.116153 -75.343513  19401   EMS: CARDIAC EMERGENCY   \n",
       "4           4  40.251492 -75.603350  19464           EMS: DIZZINESS   \n",
       "\n",
       "             timeStamp                twp                        addr  \n",
       "0  2015-12-10 17:10:52        NEW HANOVER      REINDEER CT & DEAD END  \n",
       "1  2015-12-10 17:29:21  HATFIELD TOWNSHIP  BRIAR PATH & WHITEMARSH LN  \n",
       "2  2015-12-10 14:39:21         NORRISTOWN                    HAWS AVE  \n",
       "3  2015-12-10 16:47:36         NORRISTOWN          AIRY ST & SWEDE ST  \n",
       "4  2015-12-10 16:56:52   LOWER POTTSGROVE    CHERRYWOOD CT & DEAD END  "
      ],
      "text/html": "<div>\n<style scoped>\n    .dataframe tbody tr th:only-of-type {\n        vertical-align: middle;\n    }\n\n    .dataframe tbody tr th {\n        vertical-align: top;\n    }\n\n    .dataframe thead th {\n        text-align: right;\n    }\n</style>\n<table border=\"1\" class=\"dataframe\">\n  <thead>\n    <tr style=\"text-align: right;\">\n      <th></th>\n      <th>Unnamed: 0</th>\n      <th>lat</th>\n      <th>lng</th>\n      <th>zip</th>\n      <th>title</th>\n      <th>timeStamp</th>\n      <th>twp</th>\n      <th>addr</th>\n    </tr>\n  </thead>\n  <tbody>\n    <tr>\n      <th>0</th>\n      <td>0</td>\n      <td>40.297876</td>\n      <td>-75.581294</td>\n      <td>19525</td>\n      <td>EMS: BACK PAINS/INJURY</td>\n      <td>2015-12-10 17:10:52</td>\n      <td>NEW HANOVER</td>\n      <td>REINDEER CT &amp; DEAD END</td>\n    </tr>\n    <tr>\n      <th>1</th>\n      <td>1</td>\n      <td>40.258061</td>\n      <td>-75.264680</td>\n      <td>19446</td>\n      <td>EMS: DIABETIC EMERGENCY</td>\n      <td>2015-12-10 17:29:21</td>\n      <td>HATFIELD TOWNSHIP</td>\n      <td>BRIAR PATH &amp; WHITEMARSH LN</td>\n    </tr>\n    <tr>\n      <th>2</th>\n      <td>2</td>\n      <td>40.121182</td>\n      <td>-75.351975</td>\n      <td>19401</td>\n      <td>Fire: GAS-ODOR/LEAK</td>\n      <td>2015-12-10 14:39:21</td>\n      <td>NORRISTOWN</td>\n      <td>HAWS AVE</td>\n    </tr>\n    <tr>\n      <th>3</th>\n      <td>3</td>\n      <td>40.116153</td>\n      <td>-75.343513</td>\n      <td>19401</td>\n      <td>EMS: CARDIAC EMERGENCY</td>\n      <td>2015-12-10 16:47:36</td>\n      <td>NORRISTOWN</td>\n      <td>AIRY ST &amp; SWEDE ST</td>\n    </tr>\n    <tr>\n      <th>4</th>\n      <td>4</td>\n      <td>40.251492</td>\n      <td>-75.603350</td>\n      <td>19464</td>\n      <td>EMS: DIZZINESS</td>\n      <td>2015-12-10 16:56:52</td>\n      <td>LOWER POTTSGROVE</td>\n      <td>CHERRYWOOD CT &amp; DEAD END</td>\n    </tr>\n  </tbody>\n</table>\n</div>"
     },
     "metadata": {},
     "execution_count": 4
    }
   ],
   "source": [
    "df.head()"
   ]
  },
  {
   "cell_type": "code",
   "execution_count": null,
   "metadata": {},
   "outputs": [],
   "source": []
  }
 ]
}