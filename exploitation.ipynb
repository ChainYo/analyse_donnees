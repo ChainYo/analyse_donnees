{
 "metadata": {
  "language_info": {
   "codemirror_mode": {
    "name": "ipython",
    "version": 3
   },
   "file_extension": ".py",
   "mimetype": "text/x-python",
   "name": "python",
   "nbconvert_exporter": "python",
   "pygments_lexer": "ipython3",
   "version": "3.8.5-final"
  },
  "orig_nbformat": 2,
  "kernelspec": {
   "name": "python3",
   "display_name": "Python 3",
   "language": "python"
  }
 },
 "nbformat": 4,
 "nbformat_minor": 2,
 "cells": [
  {
   "source": [
    "# <center>ANALYSE DE DONNEES</center>\n",
    "\n",
    "## <center>Emergency 911 calls</center>\n",
    "\n",
    "### <center>Pereg & Thomas</center>"
   ],
   "cell_type": "markdown",
   "metadata": {}
  },
  {
   "source": [
    "## Jeu de données\n",
    "\n",
    "Nous avons utilisé un jeu de données qui répertorie des données sur les appels d'urgences au 911 en Pennsylvanie.   \n",
    "\n",
    "Notre jeu de données est constitué de différents types de données :  \n",
    "- Longitude\n",
    "- Latitude\n",
    "- Ville\n",
    "- Code postal\n",
    "- Adresse\n",
    "- Description\n",
    "- Date & Heure"
   ],
   "cell_type": "markdown",
   "metadata": {}
  },
  {
   "source": [
    "## Présentation du MCD"
   ],
   "cell_type": "markdown",
   "metadata": {}
  },
  {
   "source": [
    "Nous avons fait le choix de diviser notre jeu de données en trois tables."
   ],
   "cell_type": "markdown",
   "metadata": {}
  },
  {
   "source": [
    "![mcd](./MCD.png)"
   ],
   "cell_type": "markdown",
   "metadata": {}
  },
  {
   "source": [
    "## Remplir la bdd\n",
    "\n",
    "Pour remplir notre base de données, nous avons fait le choix de créer un code python qui se connecterait au serveur MySQL, puis qui créerait un base `911` avec les trois tables de notre MCD et ses liaisons.  \n",
    "\n",
    "Une fois la bdd créée et les tables prêtes, nous avons un autre code python qui va compléter notre bdd pour chaque ligne de notre fichier csv."
   ],
   "cell_type": "markdown",
   "metadata": {}
  },
  {
   "source": [
    "## Procédures et vues"
   ],
   "cell_type": "markdown",
   "metadata": {}
  }
 ]
}